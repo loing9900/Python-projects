{
 "cells": [
  {
   "cell_type": "code",
   "execution_count": 1,
   "id": "909a07b4",
   "metadata": {},
   "outputs": [],
   "source": [
    "from bs4 import BeautifulSoup\n",
    "import requests"
   ]
  },
  {
   "cell_type": "code",
   "execution_count": 2,
   "id": "4b4edddb",
   "metadata": {},
   "outputs": [],
   "source": [
    "url = 'https://boston.craigslist.org/search/sof'"
   ]
  },
  {
   "cell_type": "code",
   "execution_count": 3,
   "id": "36886cd4",
   "metadata": {},
   "outputs": [],
   "source": [
    "response = requests.get(url)"
   ]
  },
  {
   "cell_type": "code",
   "execution_count": 4,
   "id": "528b1c11",
   "metadata": {},
   "outputs": [
    {
     "data": {
      "text/plain": [
       "<Response [200]>"
      ]
     },
     "execution_count": 4,
     "metadata": {},
     "output_type": "execute_result"
    }
   ],
   "source": [
    "response"
   ]
  },
  {
   "cell_type": "code",
   "execution_count": 16,
   "id": "1f36043b",
   "metadata": {},
   "outputs": [
    {
     "data": {
      "text/plain": [
       "'<!DOCTYPE html>\\n<html>\\n<head>\\n    \\n\\t<meta charset=\"UTF-8\">\\n\\t<meta http-equiv=\"X-UA-Compatible\" content=\"IE=Edge\">\\n\\t<meta name=\"viewport\" content=\"width=device-width,initial-scale=1\">\\n\\t<meta property=\"og:site_name\" content=\"craigslist\">\\n\\t<meta name=\"twitter:card\" content=\"preview\">\\n\\t<meta property=\"og:title\" content=\"boston software/qa/dba/etc jobs - craigslist\">\\n\\t<meta name=\"description\" content=\"boston software/qa/dba/etc jobs - craigslist\">\\n\\t<meta property=\"og:description\" content=\"boston soft'"
      ]
     },
     "execution_count": 16,
     "metadata": {},
     "output_type": "execute_result"
    }
   ],
   "source": [
    "data = response.text\n",
    "data[0:500]"
   ]
  },
  {
   "cell_type": "code",
   "execution_count": 9,
   "id": "14c1e1c0",
   "metadata": {},
   "outputs": [],
   "source": [
    "soup = BeautifulSoup(data, 'html.parser')"
   ]
  },
  {
   "cell_type": "code",
   "execution_count": 10,
   "id": "bf119095",
   "metadata": {},
   "outputs": [
    {
     "data": {
      "text/plain": [
       "[<a href=\"#\" id=\"cl-unrecoverable-hard-refresh\" onclick=\"location.reload(true);\">refresh the page.</a>,\n",
       " <a class=\"header-logo\" href=\"https://boston.craigslist.org/\" name=\"logoLink\">CL</a>,\n",
       " <a href=\"/\">boston</a>,\n",
       " <a href=\"https://post.craigslist.org/c/bos\">post</a>,\n",
       " <a href=\"https://accounts.craigslist.org/login/home\">account</a>,\n",
       " <a class=\"favlink\" href=\"#\"><span aria-hidden=\"true\" class=\"icon icon-star fav\"></span><span class=\"fav-number\">0</span><span class=\"fav-label\"> favorites</span></a>,\n",
       " <a class=\"to-banish-page-link\" href=\"#\">\n",
       " <span aria-hidden=\"true\" class=\"icon icon-trash red\"></span>\n",
       " <span class=\"banished_count\">0</span>\n",
       " <span class=\"discards-label\"> hidden</span>\n",
       " </a>,\n",
       " <a class=\"header-logo\" href=\"https://boston.craigslist.org/\">CL</a>,\n",
       " <a class=\"saveme\" data-action=\"save\" href=\"https://accounts.craigslist.org/savesearch/save?URL=https%3A%2F%2Fboston%2Ecraigslist%2Eorg%2Fsearch%2Fsof\" title=\"save this search\">save search</a>,\n",
       " <a class=\"reset\" href=\"/search/sof\" title=\"clear all search parameters\">software/qa/dba/etc</a>]"
      ]
     },
     "execution_count": 10,
     "metadata": {},
     "output_type": "execute_result"
    }
   ],
   "source": [
    "tags = soup.find_all('a')\n",
    "tags[0:10]"
   ]
  },
  {
   "cell_type": "code",
   "execution_count": 11,
   "id": "0a692dad",
   "metadata": {},
   "outputs": [
    {
     "name": "stdout",
     "output_type": "stream",
     "text": [
      "#\n",
      "https://boston.craigslist.org/\n",
      "/\n",
      "https://post.craigslist.org/c/bos\n",
      "https://accounts.craigslist.org/login/home\n",
      "#\n",
      "#\n",
      "https://boston.craigslist.org/\n",
      "https://accounts.craigslist.org/savesearch/save?URL=https%3A%2F%2Fboston%2Ecraigslist%2Eorg%2Fsearch%2Fsof\n",
      "/search/sof\n",
      "/search/sof\n",
      "/search/sof?sort=date&\n",
      "\n",
      "/search/sof\n",
      "/search/sof\n",
      "\n",
      "https://boston.craigslist.org/bmw/sof/d/newton-highlands-defi-company-technical/7444413376.html\n",
      "https://boston.craigslist.org/bmw/sof/d/newton-highlands-defi-company-technical/7444413376.html\n",
      "#\n",
      "https://boston.craigslist.org/gbs/sof/d/boston-research-assistant-per-hour/7444344525.html\n",
      "https://boston.craigslist.org/gbs/sof/d/boston-research-assistant-per-hour/7444344525.html\n",
      "#\n",
      "https://boston.craigslist.org/nwb/sof/d/north-andover-ui-and-lamp-programming/7443793762.html\n",
      "https://boston.craigslist.org/nwb/sof/d/north-andover-ui-and-lamp-programming/7443793762.html\n",
      "#\n",
      "https://boston.craigslist.org/gbs/sof/d/boston-full-stack-web-developer-per-hour/7443024503.html\n",
      "https://boston.craigslist.org/gbs/sof/d/boston-full-stack-web-developer-per-hour/7443024503.html\n",
      "#\n",
      "https://boston.craigslist.org/gbs/sof/d/cambridge-innovative-edtech-company/7442932470.html\n",
      "https://boston.craigslist.org/gbs/sof/d/cambridge-innovative-edtech-company/7442932470.html\n",
      "#\n",
      "https://boston.craigslist.org/gbs/sof/d/malden-in-class-qa-ba-training/7441213972.html\n",
      "https://boston.craigslist.org/gbs/sof/d/malden-in-class-qa-ba-training/7441213972.html\n",
      "#\n",
      "https://boston.craigslist.org/gbs/sof/d/boston-director-of-engineering/7441072741.html\n",
      "https://boston.craigslist.org/gbs/sof/d/boston-director-of-engineering/7441072741.html\n",
      "#\n",
      "https://boston.craigslist.org/gbs/sof/d/roxbury-software-engineer/7441011106.html\n",
      "https://boston.craigslist.org/gbs/sof/d/roxbury-software-engineer/7441011106.html\n",
      "#\n",
      "https://boston.craigslist.org/gbs/sof/d/boston-research-assistant-per-hour/7440923567.html\n",
      "https://boston.craigslist.org/gbs/sof/d/boston-research-assistant-per-hour/7440923567.html\n",
      "#\n",
      "https://boston.craigslist.org/gbs/sof/d/boston-product-manager/7440760813.html\n",
      "https://boston.craigslist.org/gbs/sof/d/boston-product-manager/7440760813.html\n",
      "#\n",
      "https://boston.craigslist.org/gbs/sof/d/roxbury-software-engineer/7440403089.html\n",
      "https://boston.craigslist.org/gbs/sof/d/roxbury-software-engineer/7440403089.html\n",
      "#\n",
      "https://boston.craigslist.org/bmw/sof/d/needham-heights-full-stack-senior/7440085292.html\n",
      "https://boston.craigslist.org/bmw/sof/d/needham-heights-full-stack-senior/7440085292.html\n",
      "#\n",
      "https://boston.craigslist.org/gbs/sof/d/boston-level-up-your-product-management/7439285042.html\n",
      "https://boston.craigslist.org/gbs/sof/d/boston-level-up-your-product-management/7439285042.html\n",
      "#\n",
      "https://boston.craigslist.org/gbs/sof/d/boston-level-up-your-software/7439284895.html\n",
      "https://boston.craigslist.org/gbs/sof/d/boston-level-up-your-software/7439284895.html\n",
      "#\n",
      "https://boston.craigslist.org/gbs/sof/d/boston-level-up-your-data-science/7439284189.html\n",
      "https://boston.craigslist.org/gbs/sof/d/boston-level-up-your-data-science/7439284189.html\n",
      "#\n",
      "https://boston.craigslist.org/gbs/sof/d/cambridge-junior-to-midlevel-backend/7438849887.html\n",
      "https://boston.craigslist.org/gbs/sof/d/cambridge-junior-to-midlevel-backend/7438849887.html\n",
      "#\n",
      "https://boston.craigslist.org/gbs/sof/d/waltham-user-success-engineer/7438710255.html\n",
      "https://boston.craigslist.org/gbs/sof/d/waltham-user-success-engineer/7438710255.html\n",
      "#\n",
      "https://boston.craigslist.org/gbs/sof/d/boston-sr-software-engineer/7438298645.html\n",
      "https://boston.craigslist.org/gbs/sof/d/boston-sr-software-engineer/7438298645.html\n",
      "#\n",
      "https://boston.craigslist.org/gbs/sof/d/groton-web-developer-it-support/7438122603.html\n",
      "https://boston.craigslist.org/gbs/sof/d/groton-web-developer-it-support/7438122603.html\n",
      "#\n",
      "https://boston.craigslist.org/gbs/sof/d/roxbury-software-engineer/7438083850.html\n",
      "https://boston.craigslist.org/gbs/sof/d/roxbury-software-engineer/7438083850.html\n",
      "#\n",
      "https://boston.craigslist.org/gbs/sof/d/cambridge-innovative-edtech-company/7438013715.html\n",
      "https://boston.craigslist.org/gbs/sof/d/cambridge-innovative-edtech-company/7438013715.html\n",
      "#\n",
      "https://boston.craigslist.org/gbs/sof/d/east-boston-get-in-demand-it-skills/7437929106.html\n",
      "https://boston.craigslist.org/gbs/sof/d/east-boston-get-in-demand-it-skills/7437929106.html\n",
      "#\n",
      "https://boston.craigslist.org/gbs/sof/d/boston-research-assistant-per-hour/7437365426.html\n",
      "https://boston.craigslist.org/gbs/sof/d/boston-research-assistant-per-hour/7437365426.html\n",
      "#\n",
      "https://boston.craigslist.org/gbs/sof/d/roxbury-software-engineer/7437206915.html\n",
      "https://boston.craigslist.org/gbs/sof/d/roxbury-software-engineer/7437206915.html\n",
      "#\n",
      "https://boston.craigslist.org/gbs/sof/d/waltham-senior-product-manager/7436975752.html\n",
      "https://boston.craigslist.org/gbs/sof/d/waltham-senior-product-manager/7436975752.html\n",
      "#\n",
      "https://boston.craigslist.org/gbs/sof/d/boston-vp-engineering/7435387158.html\n",
      "https://boston.craigslist.org/gbs/sof/d/boston-vp-engineering/7435387158.html\n",
      "#\n",
      "https://boston.craigslist.org/gbs/sof/d/boston-software-engineer-at-medical/7435382178.html\n",
      "https://boston.craigslist.org/gbs/sof/d/boston-software-engineer-at-medical/7435382178.html\n",
      "#\n",
      "https://boston.craigslist.org/gbs/sof/d/roxbury-software-engineer/7435110697.html\n",
      "https://boston.craigslist.org/gbs/sof/d/roxbury-software-engineer/7435110697.html\n",
      "#\n",
      "https://boston.craigslist.org/gbs/sof/d/roxbury-software-engineer/7434226729.html\n",
      "https://boston.craigslist.org/gbs/sof/d/roxbury-software-engineer/7434226729.html\n",
      "#\n",
      "https://boston.craigslist.org/gbs/sof/d/boston-senior-level-systems-engineer/7434007921.html\n",
      "https://boston.craigslist.org/gbs/sof/d/boston-senior-level-systems-engineer/7434007921.html\n",
      "#\n",
      "https://boston.craigslist.org/gbs/sof/d/boston-level-up-your-data-science/7433067886.html\n",
      "https://boston.craigslist.org/gbs/sof/d/boston-level-up-your-data-science/7433067886.html\n",
      "#\n",
      "https://boston.craigslist.org/gbs/sof/d/boston-level-up-your-software/7433067336.html\n",
      "https://boston.craigslist.org/gbs/sof/d/boston-level-up-your-software/7433067336.html\n",
      "#\n",
      "https://boston.craigslist.org/gbs/sof/d/boston-level-up-your-product-management/7433067212.html\n",
      "https://boston.craigslist.org/gbs/sof/d/boston-level-up-your-product-management/7433067212.html\n",
      "#\n",
      "https://boston.craigslist.org/gbs/sof/d/cambridge-software-engineer/7432957240.html\n",
      "https://boston.craigslist.org/gbs/sof/d/cambridge-software-engineer/7432957240.html\n",
      "#\n",
      "https://boston.craigslist.org/nwb/sof/d/concord-sales-analyst/7432874344.html\n",
      "https://boston.craigslist.org/nwb/sof/d/concord-sales-analyst/7432874344.html\n",
      "#\n",
      "#page-top\n",
      "#page-top\n",
      "\n",
      "/search/sof\n",
      "/search/sof\n",
      "\n",
      "https://www.craigslist.org/about/help/\n",
      "https://www.craigslist.org/about/scams\n",
      "https://www.craigslist.org/about/privacy.policy\n",
      "https://forums.craigslist.org/?forumID=8\n",
      "https://www.craigslist.org/about/terms.of.use\n",
      "https://www.craigslist.org/about/\n"
     ]
    }
   ],
   "source": [
    "for tag in tags:\n",
    "    print(tag.get('href'))"
   ]
  },
  {
   "cell_type": "markdown",
   "id": "7da258d7",
   "metadata": {},
   "source": [
    "## grab the job titles "
   ]
  },
  {
   "cell_type": "code",
   "execution_count": 10,
   "id": "ca8479aa",
   "metadata": {},
   "outputs": [
    {
     "name": "stdout",
     "output_type": "stream",
     "text": [
      "DeFi Company Technical Co-founder\n",
      "Research Assistant | $50 - $55 per hour\n",
      "UI and LAMP programming\n",
      "Full-Stack Web Developer | $70.00 - $80.00 per hour\n",
      "Innovative EdTech Company Hiring Full Stack Engineers\n",
      "In Class QA/BA Training & Placement in Boston Area\n",
      "Director Of Engineering\n",
      "Software Engineer\n",
      "Research Assistant | $50 - $55 per hour\n",
      "Product Manager\n",
      "Software Engineer\n",
      "FULL STACK SENIOR SOFTWARE DEVELOPER (ANGULAR, .Net, SQL Server)\n",
      "Level up your Product Management Career in Tech\n",
      "Level up your Software Engineering Career in Tech\n",
      "Level up your Data Science Career in Tech\n",
      "Junior-to-Midlevel Backend Developer (Remote)\n",
      "User Success Engineer\n",
      "Sr Software Engineer\n",
      "Web Developer - IT Support\n",
      "Software Engineer\n",
      "Innovative EdTech Company Hiring Full Stack Engineers\n",
      "Get In-demand IT Skills With an Avg Salary of $95K as a Beginner in IT\n",
      "Research Assistant | $50 - $55 per hour\n",
      "Software Engineer\n",
      "Senior Product Manager\n",
      "VP, Engineering\n",
      "Software Engineer at Medical Device Consulting Company (Remote)\n",
      "Software Engineer\n",
      "Software Engineer\n",
      "senior-level systems engineer\n",
      "Level up your Data Science Career in Tech\n",
      "Level up your Software Engineering Career in Tech\n",
      "Level up your Product Management Career in Tech\n",
      "Software Engineer\n",
      "Sales Analyst\n",
      "UI and LAMP programming\n",
      "STEM Intern\n",
      "Software Engineer\n",
      "Junior-to-Midlevel Backend Developer (Remote)\n",
      "IOS Software Developer that wants to Moonlight\n",
      "Client Engagement/Project Manager/Operations\n"
     ]
    }
   ],
   "source": [
    "titles = soup.find_all('a',{\"class\":\"result-title\"})\n",
    "for title in titles:\n",
    "    print(title.text)"
   ]
  },
  {
   "cell_type": "code",
   "execution_count": 17,
   "id": "5d5a5a30",
   "metadata": {},
   "outputs": [],
   "source": [
    "addresses = soup.find_all('span',{'class':'result-hood'})"
   ]
  },
  {
   "cell_type": "markdown",
   "id": "303fd253",
   "metadata": {},
   "source": [
    "## grab the job addresses"
   ]
  },
  {
   "cell_type": "code",
   "execution_count": 12,
   "id": "73f9744a",
   "metadata": {},
   "outputs": [
    {
     "name": "stdout",
     "output_type": "stream",
     "text": [
      " ( metro west )\n",
      " ( boston/cambridge/brookline )\n",
      " (North Andover northwest/merrimack )\n",
      " ( boston/cambridge/brookline )\n",
      " (Cambridge MA boston/cambridge/brookline )\n",
      " (Malden boston/cambridge/brookline )\n",
      " (boston: boston/cambridge/brookline boston/cambridge/brookline )\n",
      " ( boston/cambridge/brookline )\n",
      " ( boston/cambridge/brookline )\n",
      " (boston: boston/cambridge/brookline boston/cambridge/brookline )\n",
      " ( boston/cambridge/brookline )\n",
      " (Needham metro west )\n",
      " (Boston boston/cambridge/brookline )\n",
      " (Boston boston/cambridge/brookline )\n",
      " (Boston boston/cambridge/brookline )\n",
      " ( boston/cambridge/brookline )\n",
      " (Waltham boston/cambridge/brookline )\n",
      " ( boston/cambridge/brookline )\n",
      " (Greater Boston Area boston/cambridge/brookline )\n",
      " ( boston/cambridge/brookline )\n",
      " (Cambridge MA boston/cambridge/brookline )\n",
      " ( boston/cambridge/brookline )\n",
      " ( boston/cambridge/brookline )\n",
      " ( boston/cambridge/brookline )\n",
      " (boston: boston/cambridge/brookline boston/cambridge/brookline )\n",
      " (boston: boston/cambridge/brookline boston/cambridge/brookline )\n",
      " (Boston, MA boston/cambridge/brookline )\n",
      " ( boston/cambridge/brookline )\n",
      " ( boston/cambridge/brookline )\n",
      " (Boston boston/cambridge/brookline )\n",
      " (Boston boston/cambridge/brookline )\n",
      " (Boston boston/cambridge/brookline )\n",
      " (Boston boston/cambridge/brookline )\n",
      " (Cambridge boston/cambridge/brookline )\n",
      " (boston: northwest/merrimack northwest/merrimack )\n",
      " (North Andover northwest/merrimack )\n",
      " (Cambridge boston/cambridge/brookline )\n",
      " ( boston/cambridge/brookline )\n",
      " ( boston/cambridge/brookline )\n",
      " (Newton metro west )\n",
      " (Needham MA boston/cambridge/brookline )\n"
     ]
    }
   ],
   "source": [
    "for address in addresses:\n",
    "    print(address.text)"
   ]
  },
  {
   "cell_type": "code",
   "execution_count": 15,
   "id": "7d6eb8f0",
   "metadata": {},
   "outputs": [],
   "source": [
    "jobs=soup.find_all('div',{'class':'result-info'})"
   ]
  },
  {
   "cell_type": "markdown",
   "id": "35bdedbc",
   "metadata": {},
   "source": [
    "## grab job titles, location, date, link, job description"
   ]
  },
  {
   "cell_type": "code",
   "execution_count": 18,
   "id": "135519a0",
   "metadata": {},
   "outputs": [],
   "source": [
    "for job in jobs:\n",
    "    title=job.find('a',{'class':'result-title'}).text\n",
    "    location_tag = job.find('span',{'class':'result-hood'})\n",
    "    location=location_tag.text[2:-1] if location_tag else 'N/A'\n",
    "    date=job.find('time',{'class':'result-date'}).text\n",
    "    link=job.find('a',{'class':'result-title'}).get('href')\n",
    "    job_response= requests.get(link)\n",
    "    job_data = job_response.text\n",
    "    job_soup = BeautifulSoup(job_data, 'html.parser')\n",
    "    job_description=job_soup.find('section',{'id':'postingbody'}).text\n",
    "    job_attributes_tag = job_soup.find('p', {'class':'attrgroup'}) #1st line says specify the tag\n",
    "    job_attributes = job_attributes_tag.text if job_attributes_tag else \"N/A\" #2nd line says extract the text from tag if tag is found\n",
    "    #otherwise just add string in note that we're still inside the for loop\n",
    "    \n",
    "    #print('Jobtitle: ', title,'\\n Location: ', location, '\\nDate: ', date,'\\nLink: ', link, job_attributes, '\\nJob description: ', job_description, '\\n---------------------')"
   ]
  },
  {
   "cell_type": "markdown",
   "id": "905b9989",
   "metadata": {},
   "source": [
    "## crawling & scraping the next page"
   ]
  },
  {
   "cell_type": "code",
   "execution_count": 20,
   "id": "b488cafb",
   "metadata": {},
   "outputs": [],
   "source": [
    "url2 = 'https://boston.craigslist.org/search/npo'"
   ]
  },
  {
   "cell_type": "code",
   "execution_count": 21,
   "id": "54090208",
   "metadata": {},
   "outputs": [
    {
     "name": "stdout",
     "output_type": "stream",
     "text": [
      "Total jobs:  92\n"
     ]
    }
   ],
   "source": [
    "job_no = 0\n",
    "while True:\n",
    "    response = requests.get(url2)\n",
    "    data = response.text\n",
    "    soup=BeautifulSoup(data,'html.parser')\n",
    "    jobs = soup.find_all('div',{'class': 'result-info'})\n",
    "    for job in jobs:\n",
    "        title=job.find('a',{'class':'result-title'}).text\n",
    "        location_tag = job.find('span',{'class':'result-hood'})\n",
    "        location=location_tag.text[2:-1] if location_tag else 'N/A'\n",
    "        date=job.find('time',{'class':'result-date'}).text\n",
    "        link=job.find('a',{'class':'result-title'}).get('href')\n",
    "        job_response= requests.get(link)\n",
    "        job_data = job_response.text\n",
    "        job_soup = BeautifulSoup(job_data, 'html.parser')\n",
    "        job_description=job_soup.find('section',{'id':'postingbody'}).text\n",
    "        job_attributes_tag = job_soup.find('p', {'class':'attrgroup'}) #1st line says specify the tag\n",
    "        job_attributes = job_attributes_tag.text if job_attributes_tag else \"N/A\" #2nd line says extract the text from tag if tag is found\n",
    "    #otherwise just add string in note that we're still inside the for loop\n",
    "        \n",
    "        job_no +=1\n",
    "        #print('Jobtitle: ', title,'\\n Location: ', location, '\\nDate: ', date,'\\nLink: ', link, job_attributes, '\\nJob description: ', job_description, '\\n---')\n",
    "    url_tag = soup.find('a',{'title':'next page'})\n",
    "    if url_tag.get('href'):\n",
    "        url2 = 'https://boston.craigslist.org' + url_tag.get('href')\n",
    "        print('The next page is: ',url2)\n",
    "    else:\n",
    "        break\n",
    "print('Total jobs: ', job_no)"
   ]
  },
  {
   "cell_type": "markdown",
   "id": "340cbf97",
   "metadata": {},
   "source": [
    "## saving output to csv file"
   ]
  },
  {
   "cell_type": "code",
   "execution_count": 22,
   "id": "316268de",
   "metadata": {},
   "outputs": [],
   "source": [
    "import pandas as pd \n",
    "import requests\n",
    "from bs4 import BeautifulSoup"
   ]
  },
  {
   "cell_type": "code",
   "execution_count": 23,
   "id": "8666d8c2",
   "metadata": {},
   "outputs": [],
   "source": [
    "url = 'https://boston.craigslist.org/search/npo'"
   ]
  },
  {
   "cell_type": "code",
   "execution_count": null,
   "id": "6640c563",
   "metadata": {},
   "outputs": [],
   "source": [
    "npo_jobs ={}\n",
    "job_no = 0\n",
    "while True:\n",
    "    response = requests.get(url)\n",
    "    data = response.text\n",
    "    soup=BeautifulSoup(data,'html.parser')\n",
    "    jobs = soup.find_all('div',{'class': 'result-info'})\n",
    "    for job in jobs:\n",
    "        title=job.find('a',{'class':'result-title'}).text\n",
    "        location_tag = job.find('span',{'class':'result-hood'})\n",
    "        location=location_tag.text[2:-1] if location_tag else 'N/A'\n",
    "        date=job.find('time',{'class':'result-date'}).text\n",
    "        link=job.find('a',{'class':'result-title'}).get('href')\n",
    "        job_response= requests.get(link)\n",
    "        job_data = job_response.text\n",
    "        job_soup = BeautifulSoup(job_data, 'html.parser')\n",
    "        job_description=job_soup.find('section',{'id':'postingbody'}).text\n",
    "        job_attributes_tag = job_soup.find('p', {'class':'attrgroup'}) #1st line says specify the tag\n",
    "        job_attributes = job_attributes_tag.text if job_attributes_tag else \"N/A\" #2nd line says extract the text from tag if tag is found\n",
    "    #otherwise just add string in note that we're still inside the for loop\n",
    "        \n",
    "        job_no +=1\n",
    "        npo_jobs[job_no] =[title, location, date, link,job_attributes, job_description]\n",
    "        \n",
    "        \n",
    "#        print('Job Title: ', title,'\\n Location: ', location, '\\nDate: ', date,'\\nLink: ', link, job_attributes, '\\nJob description: ', job_description, '\\n---')\n",
    "    url_tag = soup.find('a',{'title':'next page'})\n",
    "    if url_tag.get('href'):\n",
    "        url = 'https://boston.craigslist.org' + url_tag.get('href')\n",
    "        print(url)\n",
    "    else:\n",
    "        break\n",
    "print('Total jobs: ', job_no)\n",
    "npo_jobs_df = pd.DataFrame.from_dict(npo_jobs,orient='index',columns= ['Job title','Location','Date','Link','Job Attributes','Job description'])"
   ]
  },
  {
   "cell_type": "code",
   "execution_count": 22,
   "id": "974df9aa",
   "metadata": {},
   "outputs": [
    {
     "data": {
      "text/html": [
       "<div>\n",
       "<style scoped>\n",
       "    .dataframe tbody tr th:only-of-type {\n",
       "        vertical-align: middle;\n",
       "    }\n",
       "\n",
       "    .dataframe tbody tr th {\n",
       "        vertical-align: top;\n",
       "    }\n",
       "\n",
       "    .dataframe thead th {\n",
       "        text-align: right;\n",
       "    }\n",
       "</style>\n",
       "<table border=\"1\" class=\"dataframe\">\n",
       "  <thead>\n",
       "    <tr style=\"text-align: right;\">\n",
       "      <th></th>\n",
       "      <th>Job title</th>\n",
       "      <th>Location</th>\n",
       "      <th>Date</th>\n",
       "      <th>Link</th>\n",
       "      <th>Job Attributes</th>\n",
       "      <th>Job description</th>\n",
       "    </tr>\n",
       "  </thead>\n",
       "  <tbody>\n",
       "    <tr>\n",
       "      <th>1</th>\n",
       "      <td>Direct Support Professionals wanted for Brain ...</td>\n",
       "      <td>Braintree and Stoughton south shore</td>\n",
       "      <td>Feb 10</td>\n",
       "      <td>https://boston.craigslist.org/sob/npo/d/braint...</td>\n",
       "      <td>\\ncompensation: $18.25 p/hour. 3 weeks vacatio...</td>\n",
       "      <td>\\n\\nQR Code Link to This Post\\n\\n\\nA unique op...</td>\n",
       "    </tr>\n",
       "    <tr>\n",
       "      <th>2</th>\n",
       "      <td>Counselor - per diem- Mirasol Center- Women's ...</td>\n",
       "      <td>Boston boston/cambridge/brookline</td>\n",
       "      <td>Feb 10</td>\n",
       "      <td>https://boston.craigslist.org/gbs/npo/d/boston...</td>\n",
       "      <td>\\ncompensation: 24.00\\n\\nemployment type: full...</td>\n",
       "      <td>\\n\\nQR Code Link to This Post\\n\\n\\nBay Cove Hu...</td>\n",
       "    </tr>\n",
       "    <tr>\n",
       "      <th>3</th>\n",
       "      <td>Hiring for Mental Health Case Managers!</td>\n",
       "      <td>Saugus and surrounding towns boston/cambridge/...</td>\n",
       "      <td>Feb 10</td>\n",
       "      <td>https://boston.craigslist.org/gbs/npo/d/saugus...</td>\n",
       "      <td>\\ncompensation: $42,680 to $46,680 3 weeks vac...</td>\n",
       "      <td>\\n\\nQR Code Link to This Post\\n\\n\\nEliot is kn...</td>\n",
       "    </tr>\n",
       "    <tr>\n",
       "      <th>4</th>\n",
       "      <td>Counselor - Mirasol Center for Healing</td>\n",
       "      <td>Boston boston/cambridge/brookline</td>\n",
       "      <td>Feb 10</td>\n",
       "      <td>https://boston.craigslist.org/gbs/npo/d/boston...</td>\n",
       "      <td>\\ncompensation: To Be Determined\\n\\nemployment...</td>\n",
       "      <td>\\n\\nQR Code Link to This Post\\n\\n\\nBay Cove Hu...</td>\n",
       "    </tr>\n",
       "    <tr>\n",
       "      <th>5</th>\n",
       "      <td>Counselor - Women`s Stabilization</td>\n",
       "      <td>Boston boston/cambridge/brookline</td>\n",
       "      <td>Feb 10</td>\n",
       "      <td>https://boston.craigslist.org/gbs/npo/d/boston...</td>\n",
       "      <td>\\ncompensation: To Be Determined\\n\\nemployment...</td>\n",
       "      <td>\\n\\nQR Code Link to This Post\\n\\n\\nBay Cove Hu...</td>\n",
       "    </tr>\n",
       "    <tr>\n",
       "      <th>...</th>\n",
       "      <td>...</td>\n",
       "      <td>...</td>\n",
       "      <td>...</td>\n",
       "      <td>...</td>\n",
       "      <td>...</td>\n",
       "      <td>...</td>\n",
       "    </tr>\n",
       "    <tr>\n",
       "      <th>101</th>\n",
       "      <td>Property Manager</td>\n",
       "      <td>N/A</td>\n",
       "      <td>Jan 17</td>\n",
       "      <td>https://capecod.craigslist.org/npo/d/south-orl...</td>\n",
       "      <td>\\ncompensation: Based on knowledge, experience...</td>\n",
       "      <td>\\n\\nQR Code Link to This Post\\n\\n\\nOld Colony ...</td>\n",
       "    </tr>\n",
       "    <tr>\n",
       "      <th>102</th>\n",
       "      <td>Now hiring Family-Teaching Partners (Fully-Pai...</td>\n",
       "      <td>N/A</td>\n",
       "      <td>Feb  7</td>\n",
       "      <td>https://newlondon.craigslist.org/npo/d/new-lon...</td>\n",
       "      <td>\\ncompensation: Annual starting salary of $100...</td>\n",
       "      <td>\\n\\nQR Code Link to This Post\\n\\n\\nTo apply, s...</td>\n",
       "    </tr>\n",
       "    <tr>\n",
       "      <th>103</th>\n",
       "      <td>Driver - CDL A</td>\n",
       "      <td>N/A</td>\n",
       "      <td>Feb  8</td>\n",
       "      <td>https://hartford.craigslist.org/npo/d/bloomfie...</td>\n",
       "      <td>\\ncompensation: DOE\\n\\nemployment type: full-t...</td>\n",
       "      <td>\\n\\nQR Code Link to This Post\\n\\n\\nConnecticut...</td>\n",
       "    </tr>\n",
       "    <tr>\n",
       "      <th>104</th>\n",
       "      <td>Now hiring Family-Teaching Partners (Fully-Pai...</td>\n",
       "      <td>N/A</td>\n",
       "      <td>Feb  7</td>\n",
       "      <td>https://hartford.craigslist.org/npo/d/hartford...</td>\n",
       "      <td>\\ncompensation: Annual starting salary of $100...</td>\n",
       "      <td>\\n\\nQR Code Link to This Post\\n\\n\\nTo apply, s...</td>\n",
       "    </tr>\n",
       "    <tr>\n",
       "      <th>105</th>\n",
       "      <td>Development Manager</td>\n",
       "      <td>N/A</td>\n",
       "      <td>Jan 26</td>\n",
       "      <td>https://hartford.craigslist.org/npo/d/hartford...</td>\n",
       "      <td>\\ncompensation: The position is a full-time ex...</td>\n",
       "      <td>\\n\\nQR Code Link to This Post\\n\\n\\nPosition De...</td>\n",
       "    </tr>\n",
       "  </tbody>\n",
       "</table>\n",
       "<p>105 rows × 6 columns</p>\n",
       "</div>"
      ],
      "text/plain": [
       "                                             Job title  \\\n",
       "1    Direct Support Professionals wanted for Brain ...   \n",
       "2    Counselor - per diem- Mirasol Center- Women's ...   \n",
       "3              Hiring for Mental Health Case Managers!   \n",
       "4               Counselor - Mirasol Center for Healing   \n",
       "5                    Counselor - Women`s Stabilization   \n",
       "..                                                 ...   \n",
       "101                                   Property Manager   \n",
       "102  Now hiring Family-Teaching Partners (Fully-Pai...   \n",
       "103                                     Driver - CDL A   \n",
       "104  Now hiring Family-Teaching Partners (Fully-Pai...   \n",
       "105                                Development Manager   \n",
       "\n",
       "                                              Location    Date  \\\n",
       "1                 Braintree and Stoughton south shore   Feb 10   \n",
       "2                   Boston boston/cambridge/brookline   Feb 10   \n",
       "3    Saugus and surrounding towns boston/cambridge/...  Feb 10   \n",
       "4                   Boston boston/cambridge/brookline   Feb 10   \n",
       "5                   Boston boston/cambridge/brookline   Feb 10   \n",
       "..                                                 ...     ...   \n",
       "101                                                N/A  Jan 17   \n",
       "102                                                N/A  Feb  7   \n",
       "103                                                N/A  Feb  8   \n",
       "104                                                N/A  Feb  7   \n",
       "105                                                N/A  Jan 26   \n",
       "\n",
       "                                                  Link  \\\n",
       "1    https://boston.craigslist.org/sob/npo/d/braint...   \n",
       "2    https://boston.craigslist.org/gbs/npo/d/boston...   \n",
       "3    https://boston.craigslist.org/gbs/npo/d/saugus...   \n",
       "4    https://boston.craigslist.org/gbs/npo/d/boston...   \n",
       "5    https://boston.craigslist.org/gbs/npo/d/boston...   \n",
       "..                                                 ...   \n",
       "101  https://capecod.craigslist.org/npo/d/south-orl...   \n",
       "102  https://newlondon.craigslist.org/npo/d/new-lon...   \n",
       "103  https://hartford.craigslist.org/npo/d/bloomfie...   \n",
       "104  https://hartford.craigslist.org/npo/d/hartford...   \n",
       "105  https://hartford.craigslist.org/npo/d/hartford...   \n",
       "\n",
       "                                        Job Attributes  \\\n",
       "1    \\ncompensation: $18.25 p/hour. 3 weeks vacatio...   \n",
       "2    \\ncompensation: 24.00\\n\\nemployment type: full...   \n",
       "3    \\ncompensation: $42,680 to $46,680 3 weeks vac...   \n",
       "4    \\ncompensation: To Be Determined\\n\\nemployment...   \n",
       "5    \\ncompensation: To Be Determined\\n\\nemployment...   \n",
       "..                                                 ...   \n",
       "101  \\ncompensation: Based on knowledge, experience...   \n",
       "102  \\ncompensation: Annual starting salary of $100...   \n",
       "103  \\ncompensation: DOE\\n\\nemployment type: full-t...   \n",
       "104  \\ncompensation: Annual starting salary of $100...   \n",
       "105  \\ncompensation: The position is a full-time ex...   \n",
       "\n",
       "                                       Job description  \n",
       "1    \\n\\nQR Code Link to This Post\\n\\n\\nA unique op...  \n",
       "2    \\n\\nQR Code Link to This Post\\n\\n\\nBay Cove Hu...  \n",
       "3    \\n\\nQR Code Link to This Post\\n\\n\\nEliot is kn...  \n",
       "4    \\n\\nQR Code Link to This Post\\n\\n\\nBay Cove Hu...  \n",
       "5    \\n\\nQR Code Link to This Post\\n\\n\\nBay Cove Hu...  \n",
       "..                                                 ...  \n",
       "101  \\n\\nQR Code Link to This Post\\n\\n\\nOld Colony ...  \n",
       "102  \\n\\nQR Code Link to This Post\\n\\n\\nTo apply, s...  \n",
       "103  \\n\\nQR Code Link to This Post\\n\\n\\nConnecticut...  \n",
       "104  \\n\\nQR Code Link to This Post\\n\\n\\nTo apply, s...  \n",
       "105  \\n\\nQR Code Link to This Post\\n\\n\\nPosition De...  \n",
       "\n",
       "[105 rows x 6 columns]"
      ]
     },
     "execution_count": 22,
     "metadata": {},
     "output_type": "execute_result"
    }
   ],
   "source": [
    "npo_jobs_df"
   ]
  },
  {
   "cell_type": "code",
   "execution_count": 23,
   "id": "d8cf6995",
   "metadata": {},
   "outputs": [],
   "source": [
    "npo_jobs_df.to_csv('job.csv')"
   ]
  },
  {
   "cell_type": "code",
   "execution_count": null,
   "id": "12f8e1d3",
   "metadata": {},
   "outputs": [],
   "source": []
  }
 ],
 "metadata": {
  "kernelspec": {
   "display_name": "Python 3",
   "language": "python",
   "name": "python3"
  },
  "language_info": {
   "codemirror_mode": {
    "name": "ipython",
    "version": 3
   },
   "file_extension": ".py",
   "mimetype": "text/x-python",
   "name": "python",
   "nbconvert_exporter": "python",
   "pygments_lexer": "ipython3",
   "version": "3.8.8"
  }
 },
 "nbformat": 4,
 "nbformat_minor": 5
}
