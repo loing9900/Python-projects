{
 "cells": [
  {
   "cell_type": "code",
   "execution_count": 1,
   "id": "c2e88f39",
   "metadata": {},
   "outputs": [],
   "source": [
    "import glob #used for selecting files\n",
    "import pandas as pd\n",
    "import xml.etree.ElementTree as ET\n",
    "from datetime import datetime"
   ]
  },
  {
   "cell_type": "code",
   "execution_count": 2,
   "id": "469d3e89",
   "metadata": {},
   "outputs": [],
   "source": [
    "tmpfile = 'temp.tmp' #store all extracted data\n",
    "logfile = 'logfile.txt' #store event logs\n",
    "targetfile='transformed_data.csv' #store transformed data"
   ]
  },
  {
   "cell_type": "markdown",
   "id": "d1132249",
   "metadata": {},
   "source": [
    "# Extract"
   ]
  },
  {
   "cell_type": "markdown",
   "id": "d09334fa",
   "metadata": {},
   "source": [
    "## CSV extract function"
   ]
  },
  {
   "cell_type": "code",
   "execution_count": 3,
   "id": "21f331ae",
   "metadata": {},
   "outputs": [],
   "source": [
    "def extract_from_csv(file_to_process):\n",
    "    dataframe= pd.read_csv(file_to_process)\n",
    "    return dataframe"
   ]
  },
  {
   "cell_type": "markdown",
   "id": "575947d9",
   "metadata": {},
   "source": [
    "## JSON extract function"
   ]
  },
  {
   "cell_type": "code",
   "execution_count": 4,
   "id": "e0f151c0",
   "metadata": {},
   "outputs": [],
   "source": [
    "def extract_from_json(file_to_process):\n",
    "    dataframe=pd.read_json(file_to_process, lines=True)\n",
    "    return dataframe"
   ]
  },
  {
   "cell_type": "markdown",
   "id": "cbc5a52d",
   "metadata": {},
   "source": [
    "## XML extract function"
   ]
  },
  {
   "cell_type": "code",
   "execution_count": 5,
   "id": "0b20c493",
   "metadata": {},
   "outputs": [],
   "source": [
    "def extract_from_xml(file_to_process):\n",
    "    dataframe=pd.DataFrame(columns=['name', 'height', 'weight'])\n",
    "    tree=ET.parse(file_to_process)\n",
    "    root=tree.getroot()\n",
    "    for person in root:\n",
    "        name=person.find('name').text\n",
    "        height=float(person.find('height').text)\n",
    "        weight=float(person.find('weight').text)\n",
    "        dataframe=dataframe.append({'name': name, 'height': height, 'weight': weight}, ignore_index=True)\n",
    "    return dataframe"
   ]
  },
  {
   "cell_type": "markdown",
   "id": "66e76866",
   "metadata": {},
   "source": [
    "# Total Extract function"
   ]
  },
  {
   "cell_type": "code",
   "execution_count": 6,
   "id": "71318bc7",
   "metadata": {},
   "outputs": [],
   "source": [
    "def extract():\n",
    "    extracted_data=pd.DataFrame(columns=['name','height','weight'])\n",
    "    #extract all csv files:\n",
    "    for csvfile in glob.glob('*.csv'):\n",
    "        extracted_data=extracted_data.append(extract_from_csv(csvfile),ignore_index=True)\n",
    "    \n",
    "    #extract all json files:\n",
    "    for jsonfile in glob.glob('*.json'):\n",
    "        extracted_data=extracted_data.append(extract_from_json(jsonfile),ignore_index=True)\n",
    "    \n",
    "    #extract all xml files:\n",
    "    for xmlfile in glob.glob('*.xml'):\n",
    "        extracted_data=extracted_data.append(extract_from_xml(xmlfile),ignore_index=True)\n",
    "    \n",
    "    return extracted_data"
   ]
  },
  {
   "cell_type": "markdown",
   "id": "3d5e17ac",
   "metadata": {},
   "source": [
    "# Transform\n",
    "- Convert height from inches to milimeter\n",
    "- Convert weight from pound to kilograms"
   ]
  },
  {
   "cell_type": "code",
   "execution_count": 7,
   "id": "1bb873f2",
   "metadata": {},
   "outputs": [],
   "source": [
    "def transform(data):\n",
    "    data['height']=round(data.height*0.0254,2)\n",
    "    data['weight']=round(data.weight*0.45359237,2)\n",
    "    return data"
   ]
  },
  {
   "cell_type": "markdown",
   "id": "28199ebc",
   "metadata": {},
   "source": [
    "# Load"
   ]
  },
  {
   "cell_type": "code",
   "execution_count": 8,
   "id": "f551cfb4",
   "metadata": {},
   "outputs": [],
   "source": [
    "def load(targetfile, data_to_load):\n",
    "    data_to_load.to_csv(targetfile)"
   ]
  },
  {
   "cell_type": "markdown",
   "id": "edc913a4",
   "metadata": {},
   "source": [
    "# Logging"
   ]
  },
  {
   "cell_type": "code",
   "execution_count": 9,
   "id": "fffa4a21",
   "metadata": {},
   "outputs": [],
   "source": [
    "def log(message):\n",
    "    timestamp_format= '%Y-%m-%d - %H:%M:%S'\n",
    "    now=datetime.now()\n",
    "    timestamp=now.strftime(timestamp_format)\n",
    "    with open('logfile.txt','a') as f:\n",
    "        f.write(timestamp + ', ' + message + '\\n')"
   ]
  },
  {
   "cell_type": "markdown",
   "id": "ce51473b",
   "metadata": {},
   "source": [
    "# Running ETL process"
   ]
  },
  {
   "cell_type": "code",
   "execution_count": 10,
   "id": "f2f15d2a",
   "metadata": {},
   "outputs": [],
   "source": [
    "log(\"ETL Job started\")"
   ]
  },
  {
   "cell_type": "code",
   "execution_count": 11,
   "id": "a47449e9",
   "metadata": {},
   "outputs": [],
   "source": [
    "log(\"Extract phase started\")\n",
    "extracted_data=extract()"
   ]
  },
  {
   "cell_type": "code",
   "execution_count": 12,
   "id": "af2b38e5",
   "metadata": {},
   "outputs": [
    {
     "data": {
      "text/html": [
       "<div>\n",
       "<style scoped>\n",
       "    .dataframe tbody tr th:only-of-type {\n",
       "        vertical-align: middle;\n",
       "    }\n",
       "\n",
       "    .dataframe tbody tr th {\n",
       "        vertical-align: top;\n",
       "    }\n",
       "\n",
       "    .dataframe thead th {\n",
       "        text-align: right;\n",
       "    }\n",
       "</style>\n",
       "<table border=\"1\" class=\"dataframe\">\n",
       "  <thead>\n",
       "    <tr style=\"text-align: right;\">\n",
       "      <th></th>\n",
       "      <th>name</th>\n",
       "      <th>height</th>\n",
       "      <th>weight</th>\n",
       "      <th>Unnamed: 0</th>\n",
       "    </tr>\n",
       "  </thead>\n",
       "  <tbody>\n",
       "    <tr>\n",
       "      <th>0</th>\n",
       "      <td>alex</td>\n",
       "      <td>65.78</td>\n",
       "      <td>112.99</td>\n",
       "      <td>NaN</td>\n",
       "    </tr>\n",
       "    <tr>\n",
       "      <th>1</th>\n",
       "      <td>ajay</td>\n",
       "      <td>71.52</td>\n",
       "      <td>136.49</td>\n",
       "      <td>NaN</td>\n",
       "    </tr>\n",
       "    <tr>\n",
       "      <th>2</th>\n",
       "      <td>alice</td>\n",
       "      <td>69.40</td>\n",
       "      <td>153.03</td>\n",
       "      <td>NaN</td>\n",
       "    </tr>\n",
       "    <tr>\n",
       "      <th>3</th>\n",
       "      <td>ravi</td>\n",
       "      <td>68.22</td>\n",
       "      <td>142.34</td>\n",
       "      <td>NaN</td>\n",
       "    </tr>\n",
       "    <tr>\n",
       "      <th>4</th>\n",
       "      <td>joe</td>\n",
       "      <td>67.79</td>\n",
       "      <td>144.30</td>\n",
       "      <td>NaN</td>\n",
       "    </tr>\n",
       "    <tr>\n",
       "      <th>...</th>\n",
       "      <td>...</td>\n",
       "      <td>...</td>\n",
       "      <td>...</td>\n",
       "      <td>...</td>\n",
       "    </tr>\n",
       "    <tr>\n",
       "      <th>73</th>\n",
       "      <td>ivan</td>\n",
       "      <td>67.62</td>\n",
       "      <td>114.14</td>\n",
       "      <td>NaN</td>\n",
       "    </tr>\n",
       "    <tr>\n",
       "      <th>74</th>\n",
       "      <td>simon</td>\n",
       "      <td>67.90</td>\n",
       "      <td>112.37</td>\n",
       "      <td>NaN</td>\n",
       "    </tr>\n",
       "    <tr>\n",
       "      <th>75</th>\n",
       "      <td>jacob</td>\n",
       "      <td>66.78</td>\n",
       "      <td>120.67</td>\n",
       "      <td>NaN</td>\n",
       "    </tr>\n",
       "    <tr>\n",
       "      <th>76</th>\n",
       "      <td>cindy</td>\n",
       "      <td>66.49</td>\n",
       "      <td>127.45</td>\n",
       "      <td>NaN</td>\n",
       "    </tr>\n",
       "    <tr>\n",
       "      <th>77</th>\n",
       "      <td>ivan</td>\n",
       "      <td>67.62</td>\n",
       "      <td>114.14</td>\n",
       "      <td>NaN</td>\n",
       "    </tr>\n",
       "  </tbody>\n",
       "</table>\n",
       "<p>78 rows × 4 columns</p>\n",
       "</div>"
      ],
      "text/plain": [
       "     name  height  weight  Unnamed: 0\n",
       "0    alex   65.78  112.99         NaN\n",
       "1    ajay   71.52  136.49         NaN\n",
       "2   alice   69.40  153.03         NaN\n",
       "3    ravi   68.22  142.34         NaN\n",
       "4     joe   67.79  144.30         NaN\n",
       "..    ...     ...     ...         ...\n",
       "73   ivan   67.62  114.14         NaN\n",
       "74  simon   67.90  112.37         NaN\n",
       "75  jacob   66.78  120.67         NaN\n",
       "76  cindy   66.49  127.45         NaN\n",
       "77   ivan   67.62  114.14         NaN\n",
       "\n",
       "[78 rows x 4 columns]"
      ]
     },
     "execution_count": 12,
     "metadata": {},
     "output_type": "execute_result"
    }
   ],
   "source": [
    "log(\"Extract phase ended\")\n",
    "extracted_data"
   ]
  },
  {
   "cell_type": "code",
   "execution_count": 13,
   "id": "8a456a18",
   "metadata": {},
   "outputs": [
    {
     "data": {
      "text/html": [
       "<div>\n",
       "<style scoped>\n",
       "    .dataframe tbody tr th:only-of-type {\n",
       "        vertical-align: middle;\n",
       "    }\n",
       "\n",
       "    .dataframe tbody tr th {\n",
       "        vertical-align: top;\n",
       "    }\n",
       "\n",
       "    .dataframe thead th {\n",
       "        text-align: right;\n",
       "    }\n",
       "</style>\n",
       "<table border=\"1\" class=\"dataframe\">\n",
       "  <thead>\n",
       "    <tr style=\"text-align: right;\">\n",
       "      <th></th>\n",
       "      <th>name</th>\n",
       "      <th>height</th>\n",
       "      <th>weight</th>\n",
       "      <th>Unnamed: 0</th>\n",
       "    </tr>\n",
       "  </thead>\n",
       "  <tbody>\n",
       "    <tr>\n",
       "      <th>0</th>\n",
       "      <td>alex</td>\n",
       "      <td>1.67</td>\n",
       "      <td>51.25</td>\n",
       "      <td>NaN</td>\n",
       "    </tr>\n",
       "    <tr>\n",
       "      <th>1</th>\n",
       "      <td>ajay</td>\n",
       "      <td>1.82</td>\n",
       "      <td>61.91</td>\n",
       "      <td>NaN</td>\n",
       "    </tr>\n",
       "    <tr>\n",
       "      <th>2</th>\n",
       "      <td>alice</td>\n",
       "      <td>1.76</td>\n",
       "      <td>69.41</td>\n",
       "      <td>NaN</td>\n",
       "    </tr>\n",
       "    <tr>\n",
       "      <th>3</th>\n",
       "      <td>ravi</td>\n",
       "      <td>1.73</td>\n",
       "      <td>64.56</td>\n",
       "      <td>NaN</td>\n",
       "    </tr>\n",
       "    <tr>\n",
       "      <th>4</th>\n",
       "      <td>joe</td>\n",
       "      <td>1.72</td>\n",
       "      <td>65.45</td>\n",
       "      <td>NaN</td>\n",
       "    </tr>\n",
       "  </tbody>\n",
       "</table>\n",
       "</div>"
      ],
      "text/plain": [
       "    name  height  weight  Unnamed: 0\n",
       "0   alex    1.67   51.25         NaN\n",
       "1   ajay    1.82   61.91         NaN\n",
       "2  alice    1.76   69.41         NaN\n",
       "3   ravi    1.73   64.56         NaN\n",
       "4    joe    1.72   65.45         NaN"
      ]
     },
     "execution_count": 13,
     "metadata": {},
     "output_type": "execute_result"
    }
   ],
   "source": [
    "log(\"Transform phase started\")\n",
    "transformed_data=transform(extracted_data)\n",
    "log(\"Transform phase ended\")\n",
    "transformed_data.head()"
   ]
  },
  {
   "cell_type": "code",
   "execution_count": 14,
   "id": "dc165d4f",
   "metadata": {},
   "outputs": [],
   "source": [
    "log(\"Load phase started\")\n",
    "load(targetfile,transformed_data)\n",
    "log(\"load phase ended\")"
   ]
  },
  {
   "cell_type": "code",
   "execution_count": 15,
   "id": "285c302a",
   "metadata": {},
   "outputs": [],
   "source": [
    "log(\"ETL Job ended\")"
   ]
  },
  {
   "cell_type": "code",
   "execution_count": null,
   "id": "f1e2de84",
   "metadata": {},
   "outputs": [],
   "source": []
  }
 ],
 "metadata": {
  "kernelspec": {
   "display_name": "Python 3",
   "language": "python",
   "name": "python3"
  },
  "language_info": {
   "codemirror_mode": {
    "name": "ipython",
    "version": 3
   },
   "file_extension": ".py",
   "mimetype": "text/x-python",
   "name": "python",
   "nbconvert_exporter": "python",
   "pygments_lexer": "ipython3",
   "version": "3.8.8"
  }
 },
 "nbformat": 4,
 "nbformat_minor": 5
}
