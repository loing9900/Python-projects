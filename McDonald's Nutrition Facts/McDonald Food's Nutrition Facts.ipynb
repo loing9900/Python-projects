{
 "cells": [
  {
   "cell_type": "code",
   "execution_count": 1,
   "id": "6c4363d8",
   "metadata": {},
   "outputs": [],
   "source": [
    "import pandas as pd\n",
    "import seaborn as sb\n",
    "import matplotlib.pyplot as plt"
   ]
  },
  {
   "cell_type": "code",
   "execution_count": 2,
   "id": "9f018384",
   "metadata": {},
   "outputs": [
    {
     "data": {
      "text/html": [
       "<div>\n",
       "<style scoped>\n",
       "    .dataframe tbody tr th:only-of-type {\n",
       "        vertical-align: middle;\n",
       "    }\n",
       "\n",
       "    .dataframe tbody tr th {\n",
       "        vertical-align: top;\n",
       "    }\n",
       "\n",
       "    .dataframe thead th {\n",
       "        text-align: right;\n",
       "    }\n",
       "</style>\n",
       "<table border=\"1\" class=\"dataframe\">\n",
       "  <thead>\n",
       "    <tr style=\"text-align: right;\">\n",
       "      <th></th>\n",
       "      <th>Category</th>\n",
       "      <th>Item</th>\n",
       "      <th>Serving Size</th>\n",
       "      <th>Calories</th>\n",
       "      <th>Calories from Fat</th>\n",
       "      <th>Total Fat</th>\n",
       "      <th>Total Fat (% Daily Value)</th>\n",
       "      <th>Saturated Fat</th>\n",
       "      <th>Saturated Fat (% Daily Value)</th>\n",
       "      <th>Trans Fat</th>\n",
       "      <th>...</th>\n",
       "      <th>Carbohydrates</th>\n",
       "      <th>Carbohydrates (% Daily Value)</th>\n",
       "      <th>Dietary Fiber</th>\n",
       "      <th>Dietary Fiber (% Daily Value)</th>\n",
       "      <th>Sugars</th>\n",
       "      <th>Protein</th>\n",
       "      <th>Vitamin A (% Daily Value)</th>\n",
       "      <th>Vitamin C (% Daily Value)</th>\n",
       "      <th>Calcium (% Daily Value)</th>\n",
       "      <th>Iron (% Daily Value)</th>\n",
       "    </tr>\n",
       "  </thead>\n",
       "  <tbody>\n",
       "    <tr>\n",
       "      <th>0</th>\n",
       "      <td>Breakfast</td>\n",
       "      <td>Egg McMuffin</td>\n",
       "      <td>4.8 oz (136 g)</td>\n",
       "      <td>300</td>\n",
       "      <td>120</td>\n",
       "      <td>13.0</td>\n",
       "      <td>20</td>\n",
       "      <td>5.0</td>\n",
       "      <td>25</td>\n",
       "      <td>0.0</td>\n",
       "      <td>...</td>\n",
       "      <td>31</td>\n",
       "      <td>10</td>\n",
       "      <td>4</td>\n",
       "      <td>17</td>\n",
       "      <td>3</td>\n",
       "      <td>17</td>\n",
       "      <td>10</td>\n",
       "      <td>0</td>\n",
       "      <td>25</td>\n",
       "      <td>15</td>\n",
       "    </tr>\n",
       "    <tr>\n",
       "      <th>1</th>\n",
       "      <td>Breakfast</td>\n",
       "      <td>Egg White Delight</td>\n",
       "      <td>4.8 oz (135 g)</td>\n",
       "      <td>250</td>\n",
       "      <td>70</td>\n",
       "      <td>8.0</td>\n",
       "      <td>12</td>\n",
       "      <td>3.0</td>\n",
       "      <td>15</td>\n",
       "      <td>0.0</td>\n",
       "      <td>...</td>\n",
       "      <td>30</td>\n",
       "      <td>10</td>\n",
       "      <td>4</td>\n",
       "      <td>17</td>\n",
       "      <td>3</td>\n",
       "      <td>18</td>\n",
       "      <td>6</td>\n",
       "      <td>0</td>\n",
       "      <td>25</td>\n",
       "      <td>8</td>\n",
       "    </tr>\n",
       "    <tr>\n",
       "      <th>2</th>\n",
       "      <td>Breakfast</td>\n",
       "      <td>Sausage McMuffin</td>\n",
       "      <td>3.9 oz (111 g)</td>\n",
       "      <td>370</td>\n",
       "      <td>200</td>\n",
       "      <td>23.0</td>\n",
       "      <td>35</td>\n",
       "      <td>8.0</td>\n",
       "      <td>42</td>\n",
       "      <td>0.0</td>\n",
       "      <td>...</td>\n",
       "      <td>29</td>\n",
       "      <td>10</td>\n",
       "      <td>4</td>\n",
       "      <td>17</td>\n",
       "      <td>2</td>\n",
       "      <td>14</td>\n",
       "      <td>8</td>\n",
       "      <td>0</td>\n",
       "      <td>25</td>\n",
       "      <td>10</td>\n",
       "    </tr>\n",
       "    <tr>\n",
       "      <th>3</th>\n",
       "      <td>Breakfast</td>\n",
       "      <td>Sausage McMuffin with Egg</td>\n",
       "      <td>5.7 oz (161 g)</td>\n",
       "      <td>450</td>\n",
       "      <td>250</td>\n",
       "      <td>28.0</td>\n",
       "      <td>43</td>\n",
       "      <td>10.0</td>\n",
       "      <td>52</td>\n",
       "      <td>0.0</td>\n",
       "      <td>...</td>\n",
       "      <td>30</td>\n",
       "      <td>10</td>\n",
       "      <td>4</td>\n",
       "      <td>17</td>\n",
       "      <td>2</td>\n",
       "      <td>21</td>\n",
       "      <td>15</td>\n",
       "      <td>0</td>\n",
       "      <td>30</td>\n",
       "      <td>15</td>\n",
       "    </tr>\n",
       "    <tr>\n",
       "      <th>4</th>\n",
       "      <td>Breakfast</td>\n",
       "      <td>Sausage McMuffin with Egg Whites</td>\n",
       "      <td>5.7 oz (161 g)</td>\n",
       "      <td>400</td>\n",
       "      <td>210</td>\n",
       "      <td>23.0</td>\n",
       "      <td>35</td>\n",
       "      <td>8.0</td>\n",
       "      <td>42</td>\n",
       "      <td>0.0</td>\n",
       "      <td>...</td>\n",
       "      <td>30</td>\n",
       "      <td>10</td>\n",
       "      <td>4</td>\n",
       "      <td>17</td>\n",
       "      <td>2</td>\n",
       "      <td>21</td>\n",
       "      <td>6</td>\n",
       "      <td>0</td>\n",
       "      <td>25</td>\n",
       "      <td>10</td>\n",
       "    </tr>\n",
       "  </tbody>\n",
       "</table>\n",
       "<p>5 rows × 24 columns</p>\n",
       "</div>"
      ],
      "text/plain": [
       "    Category                              Item    Serving Size  Calories  \\\n",
       "0  Breakfast                      Egg McMuffin  4.8 oz (136 g)       300   \n",
       "1  Breakfast                 Egg White Delight  4.8 oz (135 g)       250   \n",
       "2  Breakfast                  Sausage McMuffin  3.9 oz (111 g)       370   \n",
       "3  Breakfast         Sausage McMuffin with Egg  5.7 oz (161 g)       450   \n",
       "4  Breakfast  Sausage McMuffin with Egg Whites  5.7 oz (161 g)       400   \n",
       "\n",
       "   Calories from Fat  Total Fat  Total Fat (% Daily Value)  Saturated Fat  \\\n",
       "0                120       13.0                         20            5.0   \n",
       "1                 70        8.0                         12            3.0   \n",
       "2                200       23.0                         35            8.0   \n",
       "3                250       28.0                         43           10.0   \n",
       "4                210       23.0                         35            8.0   \n",
       "\n",
       "   Saturated Fat (% Daily Value)  Trans Fat  ...  Carbohydrates  \\\n",
       "0                             25        0.0  ...             31   \n",
       "1                             15        0.0  ...             30   \n",
       "2                             42        0.0  ...             29   \n",
       "3                             52        0.0  ...             30   \n",
       "4                             42        0.0  ...             30   \n",
       "\n",
       "   Carbohydrates (% Daily Value)  Dietary Fiber  \\\n",
       "0                             10              4   \n",
       "1                             10              4   \n",
       "2                             10              4   \n",
       "3                             10              4   \n",
       "4                             10              4   \n",
       "\n",
       "   Dietary Fiber (% Daily Value)  Sugars  Protein  Vitamin A (% Daily Value)  \\\n",
       "0                             17       3       17                         10   \n",
       "1                             17       3       18                          6   \n",
       "2                             17       2       14                          8   \n",
       "3                             17       2       21                         15   \n",
       "4                             17       2       21                          6   \n",
       "\n",
       "   Vitamin C (% Daily Value)  Calcium (% Daily Value)  Iron (% Daily Value)  \n",
       "0                          0                       25                    15  \n",
       "1                          0                       25                     8  \n",
       "2                          0                       25                    10  \n",
       "3                          0                       30                    15  \n",
       "4                          0                       25                    10  \n",
       "\n",
       "[5 rows x 24 columns]"
      ]
     },
     "execution_count": 2,
     "metadata": {},
     "output_type": "execute_result"
    }
   ],
   "source": [
    "menu = pd.read_csv('menu.csv')\n",
    "menu.head()"
   ]
  },
  {
   "cell_type": "markdown",
   "id": "d202a5ce",
   "metadata": {},
   "source": [
    "## categorical scatterplots\n"
   ]
  },
  {
   "cell_type": "code",
   "execution_count": 4,
   "id": "ac6eb383",
   "metadata": {},
   "outputs": [
    {
     "name": "stderr",
     "output_type": "stream",
     "text": [
      "D:\\python\\anaconda\\lib\\site-packages\\seaborn\\categorical.py:1296: UserWarning: 7.1% of the points cannot be placed; you may want to decrease the size of the markers or use stripplot.\n",
      "  warnings.warn(msg, UserWarning)\n",
      "D:\\python\\anaconda\\lib\\site-packages\\seaborn\\categorical.py:1296: UserWarning: 63.0% of the points cannot be placed; you may want to decrease the size of the markers or use stripplot.\n",
      "  warnings.warn(msg, UserWarning)\n",
      "D:\\python\\anaconda\\lib\\site-packages\\seaborn\\categorical.py:1296: UserWarning: 80.0% of the points cannot be placed; you may want to decrease the size of the markers or use stripplot.\n",
      "  warnings.warn(msg, UserWarning)\n",
      "D:\\python\\anaconda\\lib\\site-packages\\seaborn\\categorical.py:1296: UserWarning: 32.1% of the points cannot be placed; you may want to decrease the size of the markers or use stripplot.\n",
      "  warnings.warn(msg, UserWarning)\n"
     ]
    },
    {
     "data": {
      "image/png": "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\n",
      "text/plain": [
       "<Figure size 432x288 with 1 Axes>"
      ]
     },
     "metadata": {
      "needs_background": "light"
     },
     "output_type": "display_data"
    }
   ],
   "source": [
    "plot = sb.swarmplot(x='Category', y='Sodium', data=menu)\n",
    "plt.setp(plot.get_xticklabels(),rotation=45)\n",
    "plt.title('Sodium Content')\n",
    "plt.show()"
   ]
  },
  {
   "cell_type": "code",
   "execution_count": 6,
   "id": "8795f62a",
   "metadata": {},
   "outputs": [
    {
     "data": {
      "text/plain": [
       "82"
      ]
     },
     "execution_count": 6,
     "metadata": {},
     "output_type": "execute_result"
    }
   ],
   "source": [
    "#find the index of the item having the most Sodium amount\n",
    "menu['Sodium'].idxmax()"
   ]
  },
  {
   "cell_type": "code",
   "execution_count": 7,
   "id": "f5f06ee2",
   "metadata": {},
   "outputs": [
    {
     "data": {
      "text/html": [
       "<div>\n",
       "<style scoped>\n",
       "    .dataframe tbody tr th:only-of-type {\n",
       "        vertical-align: middle;\n",
       "    }\n",
       "\n",
       "    .dataframe tbody tr th {\n",
       "        vertical-align: top;\n",
       "    }\n",
       "\n",
       "    .dataframe thead th {\n",
       "        text-align: right;\n",
       "    }\n",
       "</style>\n",
       "<table border=\"1\" class=\"dataframe\">\n",
       "  <thead>\n",
       "    <tr style=\"text-align: right;\">\n",
       "      <th></th>\n",
       "      <th>Category</th>\n",
       "      <th>Item</th>\n",
       "      <th>Serving Size</th>\n",
       "      <th>Calories</th>\n",
       "      <th>Calories from Fat</th>\n",
       "      <th>Total Fat</th>\n",
       "      <th>Total Fat (% Daily Value)</th>\n",
       "      <th>Saturated Fat</th>\n",
       "      <th>Saturated Fat (% Daily Value)</th>\n",
       "      <th>Trans Fat</th>\n",
       "      <th>...</th>\n",
       "      <th>Carbohydrates</th>\n",
       "      <th>Carbohydrates (% Daily Value)</th>\n",
       "      <th>Dietary Fiber</th>\n",
       "      <th>Dietary Fiber (% Daily Value)</th>\n",
       "      <th>Sugars</th>\n",
       "      <th>Protein</th>\n",
       "      <th>Vitamin A (% Daily Value)</th>\n",
       "      <th>Vitamin C (% Daily Value)</th>\n",
       "      <th>Calcium (% Daily Value)</th>\n",
       "      <th>Iron (% Daily Value)</th>\n",
       "    </tr>\n",
       "  </thead>\n",
       "  <tbody>\n",
       "    <tr>\n",
       "      <th>82</th>\n",
       "      <td>Chicken &amp; Fish</td>\n",
       "      <td>Chicken McNuggets (40 piece)</td>\n",
       "      <td>22.8 oz (646 g)</td>\n",
       "      <td>1880</td>\n",
       "      <td>1060</td>\n",
       "      <td>118.0</td>\n",
       "      <td>182</td>\n",
       "      <td>20.0</td>\n",
       "      <td>101</td>\n",
       "      <td>1.0</td>\n",
       "      <td>...</td>\n",
       "      <td>118</td>\n",
       "      <td>39</td>\n",
       "      <td>6</td>\n",
       "      <td>24</td>\n",
       "      <td>1</td>\n",
       "      <td>87</td>\n",
       "      <td>0</td>\n",
       "      <td>15</td>\n",
       "      <td>8</td>\n",
       "      <td>25</td>\n",
       "    </tr>\n",
       "  </tbody>\n",
       "</table>\n",
       "<p>1 rows × 24 columns</p>\n",
       "</div>"
      ],
      "text/plain": [
       "          Category                          Item     Serving Size  Calories  \\\n",
       "82  Chicken & Fish  Chicken McNuggets (40 piece)  22.8 oz (646 g)      1880   \n",
       "\n",
       "    Calories from Fat  Total Fat  Total Fat (% Daily Value)  Saturated Fat  \\\n",
       "82               1060      118.0                        182           20.0   \n",
       "\n",
       "    Saturated Fat (% Daily Value)  Trans Fat  ...  Carbohydrates  \\\n",
       "82                            101        1.0  ...            118   \n",
       "\n",
       "    Carbohydrates (% Daily Value)  Dietary Fiber  \\\n",
       "82                             39              6   \n",
       "\n",
       "    Dietary Fiber (% Daily Value)  Sugars  Protein  Vitamin A (% Daily Value)  \\\n",
       "82                             24       1       87                          0   \n",
       "\n",
       "    Vitamin C (% Daily Value)  Calcium (% Daily Value)  Iron (% Daily Value)  \n",
       "82                         15                        8                    25  \n",
       "\n",
       "[1 rows x 24 columns]"
      ]
     },
     "execution_count": 7,
     "metadata": {},
     "output_type": "execute_result"
    }
   ],
   "source": [
    "# see the category and the item having the most Sodium amount\n",
    "menu[menu['Sodium']==3600]"
   ]
  },
  {
   "cell_type": "code",
   "execution_count": 8,
   "id": "348f6623",
   "metadata": {},
   "outputs": [
    {
     "data": {
      "text/plain": [
       "Category                                       Chicken & Fish\n",
       "Item                             Chicken McNuggets (40 piece)\n",
       "Serving Size                                  22.8 oz (646 g)\n",
       "Calories                                                 1880\n",
       "Calories from Fat                                        1060\n",
       "Total Fat                                               118.0\n",
       "Total Fat (% Daily Value)                                 182\n",
       "Saturated Fat                                            20.0\n",
       "Saturated Fat (% Daily Value)                             101\n",
       "Trans Fat                                                 1.0\n",
       "Cholesterol                                               265\n",
       "Cholesterol (% Daily Value)                                89\n",
       "Sodium                                                   3600\n",
       "Sodium (% Daily Value)                                    150\n",
       "Carbohydrates                                             118\n",
       "Carbohydrates (% Daily Value)                              39\n",
       "Dietary Fiber                                               6\n",
       "Dietary Fiber (% Daily Value)                              24\n",
       "Sugars                                                      1\n",
       "Protein                                                    87\n",
       "Vitamin A (% Daily Value)                                   0\n",
       "Vitamin C (% Daily Value)                                  15\n",
       "Calcium (% Daily Value)                                     8\n",
       "Iron (% Daily Value)                                       25\n",
       "Name: 82, dtype: object"
      ]
     },
     "execution_count": 8,
     "metadata": {},
     "output_type": "execute_result"
    }
   ],
   "source": [
    "# see the comprehensive details of Chicken McNuggets\n",
    "menu.iloc[82]"
   ]
  },
  {
   "cell_type": "code",
   "execution_count": 11,
   "id": "c54d75f7",
   "metadata": {},
   "outputs": [
    {
     "data": {
      "text/html": [
       "<div>\n",
       "<style scoped>\n",
       "    .dataframe tbody tr th:only-of-type {\n",
       "        vertical-align: middle;\n",
       "    }\n",
       "\n",
       "    .dataframe tbody tr th {\n",
       "        vertical-align: top;\n",
       "    }\n",
       "\n",
       "    .dataframe thead th {\n",
       "        text-align: right;\n",
       "    }\n",
       "</style>\n",
       "<table border=\"1\" class=\"dataframe\">\n",
       "  <thead>\n",
       "    <tr style=\"text-align: right;\">\n",
       "      <th></th>\n",
       "      <th>Item</th>\n",
       "      <th>Sugars</th>\n",
       "    </tr>\n",
       "  </thead>\n",
       "  <tbody>\n",
       "    <tr>\n",
       "      <th>0</th>\n",
       "      <td>Egg McMuffin</td>\n",
       "      <td>3</td>\n",
       "    </tr>\n",
       "    <tr>\n",
       "      <th>1</th>\n",
       "      <td>Egg White Delight</td>\n",
       "      <td>3</td>\n",
       "    </tr>\n",
       "    <tr>\n",
       "      <th>2</th>\n",
       "      <td>Sausage McMuffin</td>\n",
       "      <td>2</td>\n",
       "    </tr>\n",
       "    <tr>\n",
       "      <th>3</th>\n",
       "      <td>Sausage McMuffin with Egg</td>\n",
       "      <td>2</td>\n",
       "    </tr>\n",
       "    <tr>\n",
       "      <th>4</th>\n",
       "      <td>Sausage McMuffin with Egg Whites</td>\n",
       "      <td>2</td>\n",
       "    </tr>\n",
       "  </tbody>\n",
       "</table>\n",
       "</div>"
      ],
      "text/plain": [
       "                               Item  Sugars\n",
       "0                      Egg McMuffin       3\n",
       "1                 Egg White Delight       3\n",
       "2                  Sausage McMuffin       2\n",
       "3         Sausage McMuffin with Egg       2\n",
       "4  Sausage McMuffin with Egg Whites       2"
      ]
     },
     "execution_count": 11,
     "metadata": {},
     "output_type": "execute_result"
    }
   ],
   "source": [
    "# Create a DataFrame of Sugar content in the dataset \n",
    "sugar = menu[['Item','Sugars']]\n",
    "sugar.head()"
   ]
  },
  {
   "cell_type": "code",
   "execution_count": 13,
   "id": "e7c13509",
   "metadata": {},
   "outputs": [
    {
     "data": {
      "text/html": [
       "<div>\n",
       "<style scoped>\n",
       "    .dataframe tbody tr th:only-of-type {\n",
       "        vertical-align: middle;\n",
       "    }\n",
       "\n",
       "    .dataframe tbody tr th {\n",
       "        vertical-align: top;\n",
       "    }\n",
       "\n",
       "    .dataframe thead th {\n",
       "        text-align: right;\n",
       "    }\n",
       "</style>\n",
       "<table border=\"1\" class=\"dataframe\">\n",
       "  <thead>\n",
       "    <tr style=\"text-align: right;\">\n",
       "      <th></th>\n",
       "      <th>Item</th>\n",
       "      <th>Sugars</th>\n",
       "    </tr>\n",
       "  </thead>\n",
       "  <tbody>\n",
       "    <tr>\n",
       "      <th>145</th>\n",
       "      <td>Coffee (Small)</td>\n",
       "      <td>0</td>\n",
       "    </tr>\n",
       "    <tr>\n",
       "      <th>99</th>\n",
       "      <td>Kids French Fries</td>\n",
       "      <td>0</td>\n",
       "    </tr>\n",
       "    <tr>\n",
       "      <th>96</th>\n",
       "      <td>Small French Fries</td>\n",
       "      <td>0</td>\n",
       "    </tr>\n",
       "  </tbody>\n",
       "</table>\n",
       "</div>"
      ],
      "text/plain": [
       "                   Item  Sugars\n",
       "145      Coffee (Small)       0\n",
       "99    Kids French Fries       0\n",
       "96   Small French Fries       0"
      ]
     },
     "execution_count": 13,
     "metadata": {},
     "output_type": "execute_result"
    }
   ],
   "source": [
    "#sort the amount of sugar in ascending \n",
    "sugar = sugar.sort_values('Sugars', ascending = True)\n",
    "sugar.head(3)"
   ]
  },
  {
   "cell_type": "code",
   "execution_count": 16,
   "id": "3cf970d8",
   "metadata": {},
   "outputs": [
    {
     "data": {
      "text/plain": [
       "Item      25\n",
       "Sugars    25\n",
       "dtype: int64"
      ]
     },
     "execution_count": 16,
     "metadata": {},
     "output_type": "execute_result"
    }
   ],
   "source": [
    "#check for items that contain no sugar\n",
    "no_sugar_items = sugar[sugar['Sugars'] == 0]\n",
    "no_sugar_items.count()"
   ]
  },
  {
   "cell_type": "markdown",
   "id": "ffba85ed",
   "metadata": {},
   "source": [
    "=> so only 25 elements of 260 items are no sugar, which means that only the 9.61% of the items in MC Donald menu does not have sugar"
   ]
  },
  {
   "cell_type": "markdown",
   "id": "c55190d2",
   "metadata": {},
   "source": [
    "## bar diagram of average calories in different category of menu"
   ]
  },
  {
   "cell_type": "code",
   "execution_count": 24,
   "id": "4236309c",
   "metadata": {},
   "outputs": [
    {
     "data": {
      "text/html": [
       "<div>\n",
       "<style scoped>\n",
       "    .dataframe tbody tr th:only-of-type {\n",
       "        vertical-align: middle;\n",
       "    }\n",
       "\n",
       "    .dataframe tbody tr th {\n",
       "        vertical-align: top;\n",
       "    }\n",
       "\n",
       "    .dataframe thead th {\n",
       "        text-align: right;\n",
       "    }\n",
       "</style>\n",
       "<table border=\"1\" class=\"dataframe\">\n",
       "  <thead>\n",
       "    <tr style=\"text-align: right;\">\n",
       "      <th></th>\n",
       "      <th>Calories</th>\n",
       "    </tr>\n",
       "    <tr>\n",
       "      <th>Category</th>\n",
       "      <th></th>\n",
       "    </tr>\n",
       "  </thead>\n",
       "  <tbody>\n",
       "    <tr>\n",
       "      <th>Beef &amp; Pork</th>\n",
       "      <td>494.000000</td>\n",
       "    </tr>\n",
       "    <tr>\n",
       "      <th>Beverages</th>\n",
       "      <td>113.703704</td>\n",
       "    </tr>\n",
       "    <tr>\n",
       "      <th>Breakfast</th>\n",
       "      <td>526.666667</td>\n",
       "    </tr>\n",
       "    <tr>\n",
       "      <th>Chicken &amp; Fish</th>\n",
       "      <td>552.962963</td>\n",
       "    </tr>\n",
       "    <tr>\n",
       "      <th>Coffee &amp; Tea</th>\n",
       "      <td>283.894737</td>\n",
       "    </tr>\n",
       "  </tbody>\n",
       "</table>\n",
       "</div>"
      ],
      "text/plain": [
       "                  Calories\n",
       "Category                  \n",
       "Beef & Pork     494.000000\n",
       "Beverages       113.703704\n",
       "Breakfast       526.666667\n",
       "Chicken & Fish  552.962963\n",
       "Coffee & Tea    283.894737"
      ]
     },
     "execution_count": 24,
     "metadata": {},
     "output_type": "execute_result"
    }
   ],
   "source": [
    "calories_per_category = menu.groupby('Category')['Calories'].mean()\n",
    "calories_per_category = pd.DataFrame(calories_per_category)\n",
    "calories_per_category.head()"
   ]
  },
  {
   "cell_type": "code",
   "execution_count": 25,
   "id": "cf0d7f35",
   "metadata": {},
   "outputs": [
    {
     "name": "stderr",
     "output_type": "stream",
     "text": [
      "<ipython-input-25-50bf874bbc19>:3: UserWarning: FixedFormatter should only be used together with FixedLocator\n",
      "  ax.set_xticklabels(calories_per_category.index, rotation = 45)\n"
     ]
    },
    {
     "data": {
      "image/png": "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\n",
      "text/plain": [
       "<Figure size 432x288 with 1 Axes>"
      ]
     },
     "metadata": {
      "needs_background": "light"
     },
     "output_type": "display_data"
    }
   ],
   "source": [
    "fig, ax = plt.subplots()\n",
    "ax.bar(calories_per_category.index, calories_per_category['Calories'])\n",
    "ax.set_xticklabels(calories_per_category.index, rotation = 45)\n",
    "plt.show()"
   ]
  },
  {
   "cell_type": "markdown",
   "id": "96684e6d",
   "metadata": {},
   "source": [
    "=> "Chicken & Fish" category has the highest average amount of calories"
   ]
  },
  {
   "cell_type": "markdown",
   "id": "932a1989",
   "metadata": {},
   "source": [
    "## pie chart for category with cholesterol"
   ]
  },
  {
   "cell_type": "code",
   "execution_count": 44,
   "id": "6e5e9781",
   "metadata": {},
   "outputs": [
    {
     "data": {
      "image/png": "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\n",
      "text/plain": [
       "<Figure size 720x720 with 1 Axes>"
      ]
     },
     "metadata": {},
     "output_type": "display_data"
    }
   ],
   "source": [
    "labels = menu['Category'].unique()\n",
    "value = menu.groupby('Category')['Cholesterol'].mean()\n",
    "value\n",
    "fig = plt.figure(figsize=(10, 10))\n",
    "plt.pie(value, labels = labels)\n",
    "plt.show()"
   ]
  },
  {
   "cell_type": "markdown",
   "id": "a2c24b7e",
   "metadata": {},
   "source": [
    "## bar chart for Category highest range"
   ]
  },
  {
   "cell_type": "code",
   "execution_count": 37,
   "id": "5b760751",
   "metadata": {},
   "outputs": [
    {
     "name": "stderr",
     "output_type": "stream",
     "text": [
      "<ipython-input-37-6b05f6af885c>:5: UserWarning: FixedFormatter should only be used together with FixedLocator\n",
      "  ax.set_xticklabels(category_range.index, rotation = 45)\n"
     ]
    },
    {
     "data": {
      "image/png": "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\n",
      "text/plain": [
       "<Figure size 432x288 with 1 Axes>"
      ]
     },
     "metadata": {
      "needs_background": "light"
     },
     "output_type": "display_data"
    }
   ],
   "source": [
    "category_range = menu.groupby('Category')['Item'].count()\n",
    "category_range = pd.DataFrame(category_range)\n",
    "fig, ax = plt.subplots()\n",
    "ax.bar(category_range.index, category_range['Item'])\n",
    "ax.set_xticklabels(category_range.index, rotation = 45)\n",
    "plt.show()"
   ]
  },
  {
   "cell_type": "markdown",
   "id": "41af9d78",
   "metadata": {},
   "source": [
    "=> It is found that, major category of menu item found in McDonald's menu is \"Coffee & Tea\" with almost 95% value."
   ]
  },
  {
   "cell_type": "code",
   "execution_count": null,
   "id": "a6fa6006",
   "metadata": {},
   "outputs": [],
   "source": []
  }
 ],
 "metadata": {
  "kernelspec": {
   "display_name": "Python 3",
   "language": "python",
   "name": "python3"
  },
  "language_info": {
   "codemirror_mode": {
    "name": "ipython",
    "version": 3
   },
   "file_extension": ".py",
   "mimetype": "text/x-python",
   "name": "python",
   "nbconvert_exporter": "python",
   "pygments_lexer": "ipython3",
   "version": "3.8.8"
  }
 },
 "nbformat": 4,
 "nbformat_minor": 5
}
